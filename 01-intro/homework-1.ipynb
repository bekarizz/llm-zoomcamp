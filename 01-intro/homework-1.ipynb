{
 "cells": [
  {
   "cell_type": "code",
   "execution_count": 26,
   "id": "b107cf4f-25dd-4676-b643-934721d77b89",
   "metadata": {},
   "outputs": [],
   "source": [
    "import os\n",
    "import openai\n",
    "from openai import OpenAI"
   ]
  },
  {
   "cell_type": "code",
   "execution_count": null,
   "id": "5bec8c91-31a3-460a-82f1-be55f628c530",
   "metadata": {},
   "outputs": [],
   "source": [
    "client = OpenAI(api_key=os.getenv(\"OPENAI_API_KEY\"))"
   ]
  },
  {
   "cell_type": "code",
   "execution_count": 29,
   "id": "ab8f91c6-2c72-4405-81b3-fdbd60dbf70a",
   "metadata": {},
   "outputs": [],
   "source": [
    "response = client.chat.completions.create(\n",
    "    model=\"gpt-4o\",\n",
    "    messages=[{\"role\":\"user\", \"content\":\"is it too late to join the course?\"}]\n",
    ")"
   ]
  },
  {
   "cell_type": "code",
   "execution_count": 30,
   "id": "a792c712-ff7a-432a-a2d7-6730a48a23e6",
   "metadata": {},
   "outputs": [
    {
     "data": {
      "text/plain": [
       "ChatCompletion(id='chatcmpl-AW5kNSx9N3A9t3RMLYKmTWzIs9x0Z', choices=[Choice(finish_reason='stop', index=0, logprobs=None, message=ChatCompletionMessage(content=\"I would need more information to provide a specific answer. It depends on several factors:\\n\\n1. **Enrollment Deadlines:** Check the course's official website or contact the institution offering the course to see if enrollment is still open.\\n\\n2. **Course Start Date:** If the course has already started, find out how far it has progressed and whether late joiners are accommodated.\\n\\n3. **Course Flexibility:** Some courses are self-paced, meaning you can join at any time, while others follow a strict schedule.\\n\\n4. **Available Spots:** Ensure there are still open spots available for enrollment in the course.\\n\\n5. **Prerequisite Requirements:** Consider whether you've met any prerequisite requirements necessary for joining the course at this stage.\\n\\nIf you provide more details about the specific course, I might be able to help more effectively.\", refusal=None, role='assistant', audio=None, function_call=None, tool_calls=None))], created=1732211951, model='gpt-4o-2024-08-06', object='chat.completion', service_tier=None, system_fingerprint='fp_831e067d82', usage=CompletionUsage(completion_tokens=163, prompt_tokens=16, total_tokens=179, completion_tokens_details=CompletionTokensDetails(accepted_prediction_tokens=0, audio_tokens=0, reasoning_tokens=0, rejected_prediction_tokens=0), prompt_tokens_details=PromptTokensDetails(audio_tokens=0, cached_tokens=0)))"
      ]
     },
     "execution_count": 30,
     "metadata": {},
     "output_type": "execute_result"
    }
   ],
   "source": [
    "response"
   ]
  },
  {
   "cell_type": "code",
   "execution_count": null,
   "id": "76852eb1-2972-4011-b085-fa09caaa890b",
   "metadata": {},
   "outputs": [],
   "source": []
  }
 ],
 "metadata": {
  "kernelspec": {
   "display_name": "Python 3 (ipykernel)",
   "language": "python",
   "name": "python3"
  },
  "language_info": {
   "codemirror_mode": {
    "name": "ipython",
    "version": 3
   },
   "file_extension": ".py",
   "mimetype": "text/x-python",
   "name": "python",
   "nbconvert_exporter": "python",
   "pygments_lexer": "ipython3",
   "version": "3.12.1"
  }
 },
 "nbformat": 4,
 "nbformat_minor": 5
}
