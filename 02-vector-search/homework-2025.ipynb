{
 "cells": [
  {
   "cell_type": "markdown",
   "id": "e70428c2",
   "metadata": {},
   "source": [
    "## Q1. Embedding the query"
   ]
  },
  {
   "cell_type": "code",
   "execution_count": 2,
   "id": "c873b757",
   "metadata": {},
   "outputs": [],
   "source": [
    "from fastembed import TextEmbedding\n",
    "import numpy as np"
   ]
  },
  {
   "cell_type": "code",
   "execution_count": null,
   "id": "43f2658d",
   "metadata": {},
   "outputs": [
    {
     "name": "stderr",
     "output_type": "stream",
     "text": [
      "Fetching 5 files:   0%|          | 0/5 [00:00<?, ?it/s]Xet Storage is enabled for this repo, but the 'hf_xet' package is not installed. Falling back to regular HTTP download. For better performance, install the package with: `pip install huggingface_hub[hf_xet]` or `pip install hf_xet`\n",
      "Fetching 5 files: 100%|██████████| 5/5 [00:01<00:00,  3.75it/s]\n"
     ]
    },
    {
     "name": "stdout",
     "output_type": "stream",
     "text": [
      "Minimal value: -0.11726373885183883\n"
     ]
    }
   ],
   "source": [
    "query = 'I just discovered the course. Can I join now?'\n",
    "model_handle = \"jinaai/jina-embeddings-v2-small-en\"\n",
    "\n",
    "embedder = TextEmbedding(model_name=model_handle)\n",
    "embedding = next(embedder.embed(query))\n",
    "\n",
    "embedding_array = np.array(embedding)\n",
    "print(\"Minimal value:\", embedding_array.min())"
   ]
  },
  {
   "cell_type": "markdown",
   "id": "b5e7e26a",
   "metadata": {},
   "source": [
    "## Q2. Cosine similarity with another vector"
   ]
  },
  {
   "cell_type": "code",
   "execution_count": 4,
   "id": "9108c3f2",
   "metadata": {},
   "outputs": [
    {
     "name": "stderr",
     "output_type": "stream",
     "text": [
      "\u001b[32m2025-06-29 12:16:17.186\u001b[0m | \u001b[33m\u001b[1mWARNING \u001b[0m | \u001b[36mfastembed.embedding\u001b[0m:\u001b[36m<module>\u001b[0m:\u001b[36m7\u001b[0m - \u001b[33m\u001b[1mDefaultEmbedding, FlagEmbedding, JinaEmbedding are deprecated.Use from fastembed import TextEmbedding instead.\u001b[0m\n"
     ]
    },
    {
     "name": "stdout",
     "output_type": "stream",
     "text": [
      "Cosine similarity: 0.9008528895674549\n"
     ]
    }
   ],
   "source": [
    "from sklearn.metrics.pairwise import cosine_similarity\n",
    "import numpy as np\n",
    "from fastembed.embedding import TextEmbedding\n",
    "\n",
    "# Initialize the embedder\n",
    "embedder = TextEmbedding(model_name=\"jinaai/jina-embeddings-v2-small-en\")\n",
    "\n",
    "# Define query and document\n",
    "query = [\"I just discovered the course. Can I join now?\"]\n",
    "doc = [\"Can I still join the course after the start date?\"]\n",
    "\n",
    "# Generate embeddings\n",
    "query_embedding = next(embedder.embed(query))\n",
    "doc_embedding = next(embedder.embed(doc))\n",
    "\n",
    "# Compute cosine similarity\n",
    "similarity = cosine_similarity(\n",
    "    np.array(query_embedding).reshape(1, -1),\n",
    "    np.array(doc_embedding).reshape(1, -1)\n",
    ")\n",
    "\n",
    "print(\"Cosine similarity:\", similarity[0][0])"
   ]
  },
  {
   "cell_type": "markdown",
   "id": "8fa1dac8",
   "metadata": {},
   "source": [
    "## Q3. Ranking by cosine"
   ]
  },
  {
   "cell_type": "code",
   "execution_count": 5,
   "id": "7e2b7b13",
   "metadata": {},
   "outputs": [],
   "source": [
    "documents = [{'text': \"Yes, even if you don't register, you're still eligible to submit the homeworks.\\nBe aware, however, that there will be deadlines for turning in the final projects. So don't leave everything for the last minute.\",\n",
    "  'section': 'General course-related questions',\n",
    "  'question': 'Course - Can I still join the course after the start date?',\n",
    "  'course': 'data-engineering-zoomcamp'},\n",
    " {'text': 'Yes, we will keep all the materials after the course finishes, so you can follow the course at your own pace after it finishes.\\nYou can also continue looking at the homeworks and continue preparing for the next cohort. I guess you can also start working on your final capstone project.',\n",
    "  'section': 'General course-related questions',\n",
    "  'question': 'Course - Can I follow the course after it finishes?',\n",
    "  'course': 'data-engineering-zoomcamp'},\n",
    " {'text': \"The purpose of this document is to capture frequently asked technical questions\\nThe exact day and hour of the course will be 15th Jan 2024 at 17h00. The course will start with the first  “Office Hours'' live.1\\nSubscribe to course public Google Calendar (it works from Desktop only).\\nRegister before the course starts using this link.\\nJoin the course Telegram channel with announcements.\\nDon’t forget to register in DataTalks.Club's Slack and join the channel.\",\n",
    "  'section': 'General course-related questions',\n",
    "  'question': 'Course - When will the course start?',\n",
    "  'course': 'data-engineering-zoomcamp'},\n",
    " {'text': 'You can start by installing and setting up all the dependencies and requirements:\\nGoogle cloud account\\nGoogle Cloud SDK\\nPython 3 (installed with Anaconda)\\nTerraform\\nGit\\nLook over the prerequisites and syllabus to see if you are comfortable with these subjects.',\n",
    "  'section': 'General course-related questions',\n",
    "  'question': 'Course - What can I do before the course starts?',\n",
    "  'course': 'data-engineering-zoomcamp'},\n",
    " {'text': 'Star the repo! Share it with friends if you find it useful ❣️\\nCreate a PR if you see you can improve the text or the structure of the repository.',\n",
    "  'section': 'General course-related questions',\n",
    "  'question': 'How can we contribute to the course?',\n",
    "  'course': 'data-engineering-zoomcamp'}]"
   ]
  },
  {
   "cell_type": "code",
   "execution_count": 6,
   "id": "2527b371",
   "metadata": {},
   "outputs": [
    {
     "name": "stdout",
     "output_type": "stream",
     "text": [
      "Most similar document index: 1\n",
      "Cosine similarity: 0.8182378150042889\n"
     ]
    }
   ],
   "source": [
    "query = [\"I just discovered the course. Can I join now?\"]\n",
    "\n",
    "embedder = TextEmbedding(model_name=\"jinaai/jina-embeddings-v2-small-en\")\n",
    "\n",
    "query_embedding = next(embedder.embed(query))\n",
    "doc_embeddings = list(embedder.embed([doc['text'] for doc in documents]))\n",
    "\n",
    "similarities = cosine_similarity([query_embedding], doc_embeddings)[0]\n",
    "max_index = np.argmax(similarities)\n",
    "\n",
    "print(\"Most similar document index:\", max_index)\n",
    "print(\"Cosine similarity:\", similarities[max_index])"
   ]
  },
  {
   "cell_type": "markdown",
   "id": "c39bb552",
   "metadata": {},
   "source": [
    "## Q4. Ranking by cosine, version two"
   ]
  },
  {
   "cell_type": "code",
   "execution_count": 7,
   "id": "d9bf3b3c",
   "metadata": {},
   "outputs": [
    {
     "name": "stdout",
     "output_type": "stream",
     "text": [
      "Most similar document index: 0\n",
      "Cosine similarity: 0.8514543236908068\n"
     ]
    }
   ],
   "source": [
    "query = [\"I just discovered the course. Can I join now?\"]\n",
    "\n",
    "embedder = TextEmbedding(model_name=\"jinaai/jina-embeddings-v2-small-en\")\n",
    "\n",
    "query_embedding = next(embedder.embed(query))\n",
    "doc_embeddings = list(embedder.embed([doc['question'] + ' ' + doc['text'] for doc in documents]))\n",
    "\n",
    "similarities = cosine_similarity([query_embedding], doc_embeddings)[0]\n",
    "max_index = np.argmax(similarities)\n",
    "\n",
    "print(\"Most similar document index:\", max_index)\n",
    "print(\"Cosine similarity:\", similarities[max_index])"
   ]
  },
  {
   "cell_type": "markdown",
   "id": "cb3ff7f6",
   "metadata": {},
   "source": [
    "## Q5. Selecting the embedding model"
   ]
  },
  {
   "cell_type": "code",
   "execution_count": 9,
   "id": "e361dcd6",
   "metadata": {},
   "outputs": [
    {
     "name": "stdout",
     "output_type": "stream",
     "text": [
      "{\n",
      "  \"model\": \"BAAI/bge-small-en\",\n",
      "  \"sources\": {\n",
      "    \"hf\": \"Qdrant/bge-small-en\",\n",
      "    \"url\": \"https://storage.googleapis.com/qdrant-fastembed/BAAI-bge-small-en.tar.gz\",\n",
      "    \"_deprecated_tar_struct\": true\n",
      "  },\n",
      "  \"model_file\": \"model_optimized.onnx\",\n",
      "  \"description\": \"Text embeddings, Unimodal (text), English, 512 input tokens truncation, Prefixes for queries/documents: necessary, 2023 year.\",\n",
      "  \"license\": \"mit\",\n",
      "  \"size_in_GB\": 0.13,\n",
      "  \"additional_files\": [],\n",
      "  \"dim\": 384,\n",
      "  \"tasks\": {}\n",
      "}\n"
     ]
    }
   ],
   "source": [
    "import json\n",
    "\n",
    "for model in TextEmbedding.list_supported_models():\n",
    "    if model[\"model\"] == 'BAAI/bge-small-en':\n",
    "        print(json.dumps(model, indent=2))"
   ]
  },
  {
   "cell_type": "markdown",
   "id": "1c94b34d",
   "metadata": {},
   "source": [
    "## Q6. Indexing with qdrant (2 points)"
   ]
  },
  {
   "cell_type": "code",
   "execution_count": 12,
   "id": "f5ea0ddd",
   "metadata": {},
   "outputs": [],
   "source": [
    "from qdrant_client import QdrantClient, models"
   ]
  },
  {
   "cell_type": "code",
   "execution_count": 10,
   "id": "d2172f0c",
   "metadata": {},
   "outputs": [],
   "source": [
    "import requests \n",
    "\n",
    "docs_url = 'https://github.com/alexeygrigorev/llm-rag-workshop/raw/main/notebooks/documents.json'\n",
    "docs_response = requests.get(docs_url)\n",
    "documents_raw = docs_response.json()\n",
    "\n",
    "\n",
    "documents = []\n",
    "\n",
    "for course in documents_raw:\n",
    "    course_name = course['course']\n",
    "    if course_name != 'machine-learning-zoomcamp':\n",
    "        continue\n",
    "\n",
    "    for doc in course['documents']:\n",
    "        doc['course'] = course_name\n",
    "        documents.append(doc)"
   ]
  },
  {
   "cell_type": "code",
   "execution_count": 13,
   "id": "68aa2694",
   "metadata": {},
   "outputs": [
    {
     "data": {
      "text/plain": [
       "True"
      ]
     },
     "execution_count": 13,
     "metadata": {},
     "output_type": "execute_result"
    }
   ],
   "source": [
    "model_handle = 'BAAI/bge-small-en'\n",
    "\n",
    "# Define the collection name\n",
    "collection_name = \"zoomcamp-rag\"\n",
    "EMBEDDING_DIMENSIONALITY = 384\n",
    "\n",
    "client = QdrantClient(\"http://localhost:6333\")\n",
    "\n",
    "# Create the collection with specified vector parameters\n",
    "client.create_collection(\n",
    "    collection_name=collection_name,\n",
    "    vectors_config=models.VectorParams(\n",
    "        size=EMBEDDING_DIMENSIONALITY,  # Dimensionality of the vectors\n",
    "        distance=models.Distance.COSINE  # Distance metric for similarity search\n",
    "    )\n",
    ")"
   ]
  },
  {
   "cell_type": "code",
   "execution_count": 14,
   "id": "860bfd3b",
   "metadata": {},
   "outputs": [],
   "source": [
    "points = []\n",
    "id = 0\n",
    "\n",
    "for course in documents_raw:\n",
    "    for doc in course['documents']:\n",
    "\n",
    "        point = models.PointStruct(\n",
    "            id=id,\n",
    "            vector=models.Document(text=doc['text'], model=model_handle), #embed text locally with \"jinaai/jina-embeddings-v2-small-en\" from FastEmbed\n",
    "            payload={\n",
    "                \"text\": doc['question'] + ' ' + doc['text'],\n",
    "                \"section\": doc['section'],\n",
    "                \"course\": course['course']\n",
    "            } #save all needed metadata fields\n",
    "        )\n",
    "        points.append(point)\n",
    "\n",
    "        id += 1"
   ]
  },
  {
   "cell_type": "code",
   "execution_count": 15,
   "id": "638b4b33",
   "metadata": {},
   "outputs": [
    {
     "name": "stderr",
     "output_type": "stream",
     "text": [
      "Fetching 5 files: 100%|██████████| 5/5 [00:01<00:00,  3.83it/s]\n"
     ]
    },
    {
     "data": {
      "text/plain": [
       "UpdateResult(operation_id=0, status=<UpdateStatus.COMPLETED: 'completed'>)"
      ]
     },
     "execution_count": 15,
     "metadata": {},
     "output_type": "execute_result"
    }
   ],
   "source": [
    "client.upsert(\n",
    "    collection_name=collection_name,\n",
    "    points=points\n",
    ")"
   ]
  },
  {
   "cell_type": "code",
   "execution_count": 16,
   "id": "4cd558a8",
   "metadata": {},
   "outputs": [],
   "source": [
    "def search(query, limit=1):\n",
    "\n",
    "    results = client.query_points(\n",
    "        collection_name=collection_name,\n",
    "        query=models.Document( #embed the query text locally with \"jinaai/jina-embeddings-v2-small-en\"\n",
    "            text=query,\n",
    "            model=model_handle \n",
    "        ),\n",
    "        limit=limit, # top closest matches\n",
    "        with_payload=True #to get metadata in the results\n",
    "    )\n",
    "\n",
    "    return results"
   ]
  },
  {
   "cell_type": "code",
   "execution_count": 17,
   "id": "476397a0",
   "metadata": {},
   "outputs": [
    {
     "data": {
      "text/plain": [
       "QueryResponse(points=[ScoredPoint(id=497, version=0, score=0.8661978, payload={'text': 'Can I use LinearRegression from Scikit-Learn for this week? Yes, you can. We will also do that next week, so don’t worry, you will learn how to do it.', 'section': '2. Machine Learning for Regression', 'course': 'machine-learning-zoomcamp'}, vector=None, shard_key=None, order_value=None)])"
      ]
     },
     "execution_count": 17,
     "metadata": {},
     "output_type": "execute_result"
    }
   ],
   "source": [
    "query = \"I just discovered the course. Can I join now?\"\n",
    "result = search(query)\n",
    "result"
   ]
  },
  {
   "cell_type": "code",
   "execution_count": null,
   "id": "3c08d107",
   "metadata": {},
   "outputs": [],
   "source": []
  }
 ],
 "metadata": {
  "kernelspec": {
   "display_name": "Python 3",
   "language": "python",
   "name": "python3"
  },
  "language_info": {
   "codemirror_mode": {
    "name": "ipython",
    "version": 3
   },
   "file_extension": ".py",
   "mimetype": "text/x-python",
   "name": "python",
   "nbconvert_exporter": "python",
   "pygments_lexer": "ipython3",
   "version": "3.12.1"
  }
 },
 "nbformat": 4,
 "nbformat_minor": 5
}
