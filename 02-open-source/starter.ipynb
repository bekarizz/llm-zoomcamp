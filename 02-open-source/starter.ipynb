{
 "cells": [
  {
   "cell_type": "code",
   "execution_count": 17,
   "id": "21aa255e-c971-44ca-9826-a721df3ad063",
   "metadata": {},
   "outputs": [
    {
     "data": {
      "text/plain": [
       "'This statement passes the intended meaning of conducting a simple action or check, which can be inferred as \"this sentence appears correctly structured.\" Here it is in plain English: Yes, I understand. This message has been successfully sent and acknowledged for review or testing purposes to ensure proper comprehension and transmission through writing channels such as text messaging or digital communication systems.'"
      ]
     },
     "execution_count": 17,
     "metadata": {},
     "output_type": "execute_result"
    }
   ],
   "source": [
    "llm('write that this is test')"
   ]
  },
  {
   "cell_type": "code",
   "execution_count": 18,
   "id": "b0d193cb-38dd-4872-b34d-b3cc0ff0d9b7",
   "metadata": {},
   "outputs": [
    {
     "name": "stdout",
     "output_type": "stream",
     "text": [
      "This statement passes the intended meaning of conducting a simple action or check, which can be inferred as \"this sentence appears correctly structured.\" Here it is in plain English: Yes, I understand. This message has been successfully sent and acknowledged for review or testing purposes to ensure proper comprehension and transmission through writing channels such as text messaging or digital communication systems.\n"
     ]
    }
   ],
   "source": [
    "print(_)"
   ]
  },
  {
   "cell_type": "code",
   "execution_count": null,
   "id": "cc4bb1fe-be19-4040-835d-609d8378e23e",
   "metadata": {},
   "outputs": [],
   "source": []
  }
 ],
 "metadata": {
  "kernelspec": {
   "display_name": "Python 3 (ipykernel)",
   "language": "python",
   "name": "python3"
  },
  "language_info": {
   "codemirror_mode": {
    "name": "ipython",
    "version": 3
   },
   "file_extension": ".py",
   "mimetype": "text/x-python",
   "name": "python",
   "nbconvert_exporter": "python",
   "pygments_lexer": "ipython3",
   "version": "3.12.1"
  }
 },
 "nbformat": 4,
 "nbformat_minor": 5
}
